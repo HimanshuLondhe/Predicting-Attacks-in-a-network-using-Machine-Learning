{
 "cells": [
  {
   "cell_type": "code",
   "execution_count": 12,
   "metadata": {},
   "outputs": [],
   "source": [
    "import sys, os\n",
    "import matplotlib.pyplot as plt\n",
    "from sklearn import svm\n",
    "from sklearn import preprocessing\n",
    "from sklearn.preprocessing import OneHotEncoder\n",
    "from sklearn.model_selection import train_test_split, GridSearchCV\n",
    "from tqdm import tqdm\n",
    "import pandas as pd\n",
    "from sklearn.metrics import classification_report\n",
    "from sklearn.model_selection import train_test_split\n",
    "from sklearn import preprocessing\n",
    "from sklearn.preprocessing import StandardScaler\n",
    "from sklearn.decomposition import PCA\n",
    "\n",
    "\n",
    "## Training  \n",
    "\n",
    "le = preprocessing.LabelEncoder()\n",
    "\n",
    "X_train = pd.read_csv('cybersecurity_training/cybersecurity_training.csv', delimiter = '|')\n",
    "\n",
    "Y_train = X_train['notified']\n",
    "\n",
    "X_train[X_train.isna().any(axis = 1)]\n",
    "\n",
    "del X_train['notified']\n",
    "\n",
    "X_train.ipcategory_name.unique()\n",
    "#x_train = X_train.select_dtypes(include=[object]).copy()\n",
    "#x_train.head(3)\n",
    "\n",
    "le = preprocessing.LabelEncoder()\n",
    "\n",
    "\n",
    "# 2/3. FIT AND TRANSFORM\n",
    "# use df.apply() to apply le.fit_transform to all columns\n",
    "x_2 = x_train.apply(le.fit_transform)\n",
    "#X_2.head()\n",
    "\n",
    "non_int = list(x_2.columns)\n",
    "\n",
    "X_train[non_int] = x_2 \n",
    "\n",
    "X_train.fillna(value='0.5', inplace=True)\n",
    "\n",
    "\n",
    "\n",
    "X_T, X_Ts, y_T, y_Ts = train_test_split(X_train, Y_train, test_size=0.2, random_state=42)\n",
    "\n",
    "\n",
    "\n",
    "\n",
    "from sklearn.preprocessing import StandardScaler\n",
    "sc = StandardScaler()\n",
    "X_T = sc.fit_transform(X_T)\n",
    "X_Ts = sc.transform(X_Ts)"
   ]
  },
  {
   "cell_type": "code",
   "execution_count": 13,
   "metadata": {},
   "outputs": [],
   "source": [
    "pca = PCA(n_components= None)\n",
    "X_T = pca.fit_transform(X_T)\n",
    "X_Ts = pca.transform(X_Ts)"
   ]
  },
  {
   "cell_type": "code",
   "execution_count": 14,
   "metadata": {},
   "outputs": [
    {
     "name": "stdout",
     "output_type": "stream",
     "text": [
      "[1.97519337e-01 1.17517021e-01 8.32904904e-02 6.10326162e-02\n",
      " 4.88629449e-02 3.57803896e-02 3.41647334e-02 2.96813936e-02\n",
      " 2.67741375e-02 1.87667112e-02 1.72734008e-02 1.69127901e-02\n",
      " 1.69024571e-02 1.66311891e-02 1.62612505e-02 1.60443979e-02\n",
      " 1.60166350e-02 1.59935318e-02 1.58547706e-02 1.54075932e-02\n",
      " 1.49831079e-02 1.44205865e-02 1.35869030e-02 1.32772172e-02\n",
      " 1.20674967e-02 1.15579058e-02 1.13239879e-02 1.04041800e-02\n",
      " 8.28014495e-03 7.08791952e-03 5.94448499e-03 5.77871458e-03\n",
      " 5.57457556e-03 5.00235006e-03 4.57348504e-03 4.23461195e-03\n",
      " 3.91606506e-03 3.31779370e-03 3.19288443e-03 2.83130292e-03\n",
      " 2.70939501e-03 2.31983627e-03 2.15432650e-03 1.91616038e-03\n",
      " 1.69954970e-03 1.62317055e-03 1.51808401e-03 1.27574291e-03\n",
      " 1.12226405e-03 1.08844373e-03 8.69864739e-04 7.86157063e-04\n",
      " 7.37008222e-04 6.05205333e-04 4.95671036e-04 4.48958922e-04\n",
      " 3.93313034e-04 1.46202589e-04 4.71363095e-05 3.89538208e-32\n",
      " 1.05249262e-33 1.05249262e-33]\n"
     ]
    }
   ],
   "source": [
    "print(pca.explained_variance_ratio_)"
   ]
  },
  {
   "cell_type": "code",
   "execution_count": 15,
   "metadata": {},
   "outputs": [
    {
     "name": "stdout",
     "output_type": "stream",
     "text": [
      "[LibSVM]"
     ]
    },
    {
     "name": "stderr",
     "output_type": "stream",
     "text": [
      "0it [00:00, ?it/s]\n"
     ]
    },
    {
     "name": "stdout",
     "output_type": "stream",
     "text": [
      "Wall time: 2min 30s\n"
     ]
    }
   ],
   "source": [
    "%%time\n",
    "from sklearn import svm\n",
    "\n",
    "#Create a svm Classifier\n",
    "clf = svm.SVC(kernel='poly', verbose=True) # Linear Kernel\n",
    "\n",
    "\n",
    "#Train the model using the training sets\n",
    "tqdm(clf.fit(X_T, y_T))\n",
    "\n",
    "#Predict the response for test datasset\n",
    "y_pred = clf.predict(X_Ts)"
   ]
  },
  {
   "cell_type": "code",
   "execution_count": 21,
   "metadata": {},
   "outputs": [],
   "source": [
    "from sklearn.metrics import accuracy_score\n",
    "from sklearn.metrics import confusion_matrix"
   ]
  },
  {
   "cell_type": "code",
   "execution_count": 22,
   "metadata": {},
   "outputs": [
    {
     "data": {
      "text/plain": [
       "0.9383717981232564"
      ]
     },
     "execution_count": 22,
     "metadata": {},
     "output_type": "execute_result"
    }
   ],
   "source": [
    "accuracy_score(y_Ts, y_pred)"
   ]
  },
  {
   "cell_type": "code",
   "execution_count": 23,
   "metadata": {},
   "outputs": [
    {
     "data": {
      "text/plain": [
       "array([[7389,   21],\n",
       "       [ 465,   11]], dtype=int64)"
      ]
     },
     "execution_count": 23,
     "metadata": {},
     "output_type": "execute_result"
    }
   ],
   "source": [
    "confusion_matrix(y_Ts,y_pred)"
   ]
  },
  {
   "cell_type": "code",
   "execution_count": 24,
   "metadata": {},
   "outputs": [],
   "source": [
    "from sklearn.metrics import f1_score"
   ]
  },
  {
   "cell_type": "code",
   "execution_count": 25,
   "metadata": {},
   "outputs": [
    {
     "data": {
      "text/plain": [
       "0.9123361107601778"
      ]
     },
     "execution_count": 25,
     "metadata": {},
     "output_type": "execute_result"
    }
   ],
   "source": [
    "f1_score(y_Ts, y_pred, average='weighted') "
   ]
  },
  {
   "cell_type": "code",
   "execution_count": null,
   "metadata": {},
   "outputs": [],
   "source": []
  }
 ],
 "metadata": {
  "kernelspec": {
   "display_name": "Python 3",
   "language": "python",
   "name": "python3"
  },
  "language_info": {
   "codemirror_mode": {
    "name": "ipython",
    "version": 3
   },
   "file_extension": ".py",
   "mimetype": "text/x-python",
   "name": "python",
   "nbconvert_exporter": "python",
   "pygments_lexer": "ipython3",
   "version": "3.7.4"
  }
 },
 "nbformat": 4,
 "nbformat_minor": 2
}
